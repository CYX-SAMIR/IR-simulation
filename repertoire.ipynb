{
 "cells": [
  {
   "cell_type": "code",
   "execution_count": 24,
   "metadata": {},
   "outputs": [],
   "source": [
    "import itertools\n",
    "import numpy as np\n",
    "import random\n",
    "import pandas as pd\n",
    "import seaborn as sns\n",
    "from scipy import  stats\n",
    "from  sklearn.manifold import TSNE"
   ]
  },
  {
   "cell_type": "code",
   "execution_count": 6,
   "metadata": {},
   "outputs": [],
   "source": [
    "\n",
    "class repertoire():\n",
    "    # define a repertoire which is scale free\n",
    "    def __init__(self,cell_number,somatic_hypermutation_rate,poliferation_form = 0,max_stimulation = 100, footstep=1.5):\n",
    "        # initial cell number\n",
    "        self.cell_number = cell_number \n",
    "        # initial BCR,TCR stimulating signal triggered by a random antigen should be gaussian distribution\n",
    "        self.poliferation_factor = [abs(np.random.normal(loc=0,scale=1,size=None)) for i in range(cell_number)] \n",
    "        self.mutation_rate = somatic_hypermutation_rate\n",
    "\n",
    "        self.clone_number = {str(i):1 for i in range(cell_number)}\n",
    "        self.mutation_num = {str(i):0 for i in range(cell_number)}\n",
    "        self.poliferation_form = poliferation_form\n",
    "        self.footstep = footstep\n",
    "        # max stimulating signal triggered by BCR,TCR\n",
    "        self.max_stimulation=max_stimulation\n",
    "        self._poliferation_probability = 0\n",
    "\n",
    "    def cell_id_list(self):\n",
    "        return [i for i in range(self.cell_number)]\n",
    "\n",
    "\n",
    "    def cell_poliferation_probability(self):\n",
    "        return [self.stimulation_to_poliferation(self.poliferation_factor[i])*self.clone_number[str(i)] for i in  range(self.cell_number)]\n",
    "        # normalize probability each time after a new cell joins\n",
    "        \n",
    "    \n",
    "    def stimulation_to_poliferation(self,i):\n",
    "        # different formulation get similiar scale free power law distribution\n",
    "        if self.poliferation_form ==0:\n",
    "            return np.exp(i/10)\n",
    "        if self.poliferation_form ==1:\n",
    "            return np.exp(i*0.3)\n",
    "        if self.poliferation_form ==2:\n",
    "            return np.exp(i)\n",
    "        elif self.poliferation_form == 3:\n",
    "            return np.power(10,i/50)\n",
    "        elif self.poliferation_form == 4:\n",
    "            return np.power(10,i/100)*np.exp(i/10)\n",
    "        else:\n",
    "            return np.power(10,i)*np.exp(5*i)\n",
    "        \n",
    "    def proliferate(self,poliferation_number):\n",
    "        # proliferation\n",
    "        for cell_i in range(poliferation_number):\n",
    "            probability_index = random.choices(self.cell_id_list(), weights=self.cell_poliferation_probability(), k=1)[0]\n",
    "            # choose a clone to attach\n",
    "            \n",
    "            # accroading to real world data, previous research and structure of BCR, \n",
    "\n",
    "            # it is nearly impossible to get a BCR with mutation number > 50\n",
    "\n",
    "            # so we set cells with big mutation numbers have lower mutation rate\n",
    "            if self.mutation_num[str(probability_index)]>10:\n",
    "                real_mutation_rate = self.mutation_rate*(50-self.mutation_num[str(probability_index)])/50\n",
    "            elif self.mutation_num[str(probability_index)] >=50:\n",
    "                # proliferate without mutation\n",
    "                self.clone_number[str(probability_index)] +=1\n",
    "                continue\n",
    "            else:\n",
    "                real_mutation_rate=self.mutation_rate\n",
    "\n",
    "            if random.random() < real_mutation_rate:\n",
    "                # SHM or proliferation\n",
    "                parent_mutation_num = self.mutation_num[str(probability_index)]\n",
    "                self.add_new_cell(self.poliferation_factor[probability_index], parent_mutation_num)\n",
    "            else:\n",
    "                self.clone_number[str(probability_index)] +=1\n",
    "                \n",
    "    def add_new_cell(self,parent_poliferation_factor, parent_mutation_num):\n",
    "        # inherit poliferation_factor from parent cell\n",
    "        new_poliferation_factor = max(np.random.normal(loc=parent_poliferation_factor,scale=self.footstep,size=None),0)\n",
    "        if new_poliferation_factor > self.max_stimulation:\n",
    "            # mutation will not contribute to poliferation speed after reaching max stimulation\n",
    "            new_poliferation_factor = self.max_stimulation\n",
    "        cell_id = max(self.cell_id_list())+1\n",
    "        self.cell_number = self.cell_number + 1\n",
    "        self.poliferation_factor.append(new_poliferation_factor)\n",
    "        self.clone_number.update({\n",
    "            str(cell_id):1\n",
    "        })\n",
    "        self.mutation_num.update({\n",
    "            str(cell_id):parent_mutation_num+1\n",
    "        })\n"
   ]
  },
  {
   "cell_type": "code",
   "execution_count": null,
   "metadata": {},
   "outputs": [],
   "source": [
    "# define the initial status of repertoire\n",
    "simulate_repertoire = repertoire(10000,0,4,100,1.5)\n",
    "# proliferate to a certain total cell number\n",
    "simulate_repertoire.proliferate(10000000)"
   ]
  },
  {
   "cell_type": "code",
   "execution_count": null,
   "metadata": {},
   "outputs": [],
   "source": [
    "# check cell number in each clone:\n",
    "simulate_repertoire.clone_number.values()\n",
    "# check mutation number for each clone:\n",
    "simulate_repertoire.mutation_num.values()\n",
    "# check clone id:\n",
    "simulate_repertoire.cell_id_list()"
   ]
  },
  {
   "cell_type": "code",
   "execution_count": 20,
   "metadata": {},
   "outputs": [],
   "source": [
    "# distance calculation and visualization\n",
    "# all info in example data are from BLAST result\n",
    "# each line in the csv file represent a kind of BCR or TCR seq\n",
    "# UMI are added to the cDNA in the RT-PCR step\n",
    "# seq with same UMI, V, J, CDR3 length, and levenshtein distance < 3bp in CDR3 are considered as same seq\n",
    "# seq with same BCR or TCR seq but different UMI are from same clone and clone size are counted in \"clone_size\" column\n",
    "example_data1 = pd.read_csv('example_data_1.csv')\n",
    "example_data2 = pd.read_csv('example_data_2.csv')\n",
    "example_data3 = pd.read_csv('example_data_3.csv')\n",
    "data_list = [example_data1,example_data2,example_data3]\n",
    "for datai in data_list:\n",
    "    # calculate mutation number from nt mutation list\n",
    "    datai['nt_mutation_number'] = datai['nt_mutations'].apply(lambda x:x.count('\", \"'))\n",
    "\n",
    "    # calculate clone weights from nt mutation number\n",
    "    datai['weights'] = datai['nt_mutation_number'].apply(lambda x:np.power(x,2)+0.1)\n",
    "\n",
    "# build distance matrix from sample wasserstein distance\n",
    "distance_matrix = [\n",
    "    [stats.wasserstein_distance(\n",
    "                i['clone_size'],\n",
    "                j['clone_size'],\n",
    "                i['weights'],\n",
    "                j['weights'],\n",
    "        ) for i in data_list\n",
    "    ] for j in data_list\n",
    "    ]\n"
   ]
  },
  {
   "cell_type": "code",
   "execution_count": 31,
   "metadata": {},
   "outputs": [
    {
     "data": {
      "text/plain": [
       "<Axes: xlabel='x', ylabel='y'>"
      ]
     },
     "execution_count": 31,
     "metadata": {},
     "output_type": "execute_result"
    },
    {
     "data": {
      "image/png": "[encoded data removed]",
      "text/plain": [
       "<Figure size 640x480 with 1 Axes>"
      ]
     },
     "metadata": {},
     "output_type": "display_data"
    }
   ],
   "source": [
    "# Visualization by TSNE\n",
    "tsne = TSNE(n_components=2,metric='precomputed',perplexity=1,init='random',n_iter=100000,min_grad_norm=1e-7)\n",
    "coordinate = tsne.fit_transform(pd.DataFrame(distance_matrix))\n",
    "draw = pd.DataFrame(coordinate,columns=['x','y'])\n",
    "draw['label'] = ['example_data1','example_data2','example_data3']\n",
    "sns.scatterplot(\n",
    "    draw,\n",
    "    x='x',\n",
    "    y='y',\n",
    "    hue='label'\n",
    ")"
   ]
  },
  {
   "cell_type": "code",
   "execution_count": 28,
   "metadata": {},
   "outputs": [
    {
     "data": {
      "text/html": [
       "<div>\n",
       "<style scoped>\n",
       "    .dataframe tbody tr th:only-of-type {\n",
       "        vertical-align: middle;\n",
       "    }\n",
       "\n",
       "    .dataframe tbody tr th {\n",
       "        vertical-align: top;\n",
       "    }\n",
       "\n",
       "    .dataframe thead th {\n",
       "        text-align: right;\n",
       "    }\n",
       "</style>\n",
       "<table border=\"1\" class=\"dataframe\">\n",
       "  <thead>\n",
       "    <tr style=\"text-align: right;\">\n",
       "      <th></th>\n",
       "      <th>x</th>\n",
       "      <th>y</th>\n",
       "    </tr>\n",
       "  </thead>\n",
       "  <tbody>\n",
       "    <tr>\n",
       "      <th>0</th>\n",
       "      <td>218.929108</td>\n",
       "      <td>26.215338</td>\n",
       "    </tr>\n",
       "    <tr>\n",
       "      <th>1</th>\n",
       "      <td>96.839470</td>\n",
       "      <td>79.271584</td>\n",
       "    </tr>\n",
       "    <tr>\n",
       "      <th>2</th>\n",
       "      <td>403.792694</td>\n",
       "      <td>-54.120461</td>\n",
       "    </tr>\n",
       "  </tbody>\n",
       "</table>\n",
       "</div>"
      ],
      "text/plain": [
       "            x          y\n",
       "0  218.929108  26.215338\n",
       "1   96.839470  79.271584\n",
       "2  403.792694 -54.120461"
      ]
     },
     "execution_count": 28,
     "metadata": {},
     "output_type": "execute_result"
    }
   ],
   "source": [
    "draw"
   ]
  }
 ],
 "metadata": {
  "kernelspec": {
   "display_name": "wired",
   "language": "python",
   "name": "wired"
  },
  "language_info": {
   "codemirror_mode": {
    "name": "ipython",
    "version": 3
   },
   "file_extension": ".py",
   "mimetype": "text/x-python",
   "name": "python",
   "nbconvert_exporter": "python",
   "pygments_lexer": "ipython3",
   "version": "3.8.17"
  }
 },
 "nbformat": 4,
 "nbformat_minor": 2
}
